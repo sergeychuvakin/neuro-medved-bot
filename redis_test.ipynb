{
 "cells": [
  {
   "cell_type": "markdown",
   "id": "b6d6e578-e86a-409f-b3af-ad4a6c03057e",
   "metadata": {},
   "source": [
    "```bash\n",
    "CACHE_TYPE=redis\n",
    "CACHE_REDIS_HOST=redis\n",
    "CACHE_REDIS_PORT=6379\n",
    "CACHE_REDIS_DB=0\n",
    "CACHE_REDIS_URL=redis://redis:6379/0\n",
    "CACHE_DEFAULT_TIMEOUT=500\n",
    "```"
   ]
  },
  {
   "cell_type": "code",
   "execution_count": 14,
   "id": "d8ee6e51-1986-4ea3-828e-6235f95beb2b",
   "metadata": {},
   "outputs": [],
   "source": [
    "import redis\n",
    "\n",
    "r = redis.Redis(\n",
    "    host='localhost', \n",
    "    port=6379,\n",
    "    db=0, password=None, socket_timeout=500,\n",
    "    )"
   ]
  },
  {
   "cell_type": "code",
   "execution_count": 20,
   "id": "bce967f4-7960-411c-b565-52829c98bd55",
   "metadata": {},
   "outputs": [
    {
     "name": "stdout",
     "output_type": "stream",
     "text": [
      "b'bar'\n"
     ]
    }
   ],
   "source": [
    "r.set('foo', 'bar')\n",
    "value = r.get('foo')\n",
    "print(value)"
   ]
  },
  {
   "cell_type": "code",
   "execution_count": 25,
   "id": "ef424d6f-8988-4a87-a0cd-a27b2d49793e",
   "metadata": {},
   "outputs": [],
   "source": [
    "r.get(\"foo\")"
   ]
  },
  {
   "cell_type": "code",
   "execution_count": 24,
   "id": "54be60fd-8f5e-4910-aa04-19320c5a5d03",
   "metadata": {},
   "outputs": [
    {
     "data": {
      "text/plain": [
       "1"
      ]
     },
     "execution_count": 24,
     "metadata": {},
     "output_type": "execute_result"
    }
   ],
   "source": [
    "r.delete(\"foo\")"
   ]
  },
  {
   "cell_type": "code",
   "execution_count": null,
   "id": "abb2b7bf-a59e-4264-84a6-b043d093c1e9",
   "metadata": {},
   "outputs": [],
   "source": []
  }
 ],
 "metadata": {
  "kernelspec": {
   "display_name": "Python 3 (ipykernel)",
   "language": "python",
   "name": "python3"
  },
  "language_info": {
   "codemirror_mode": {
    "name": "ipython",
    "version": 3
   },
   "file_extension": ".py",
   "mimetype": "text/x-python",
   "name": "python",
   "nbconvert_exporter": "python",
   "pygments_lexer": "ipython3",
   "version": "3.8.10"
  }
 },
 "nbformat": 4,
 "nbformat_minor": 5
}
