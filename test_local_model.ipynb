{
 "cells": [
  {
   "cell_type": "code",
   "execution_count": 4,
   "metadata": {},
   "outputs": [],
   "source": [
    "import os\n",
    "\n",
    "import numpy as np\n",
    "import torch\n",
    "from tqdm.notebook import tqdm\n",
    "from transformers import (\n",
    "    GPT2LMHeadModel,\n",
    "    GPT2Tokenizer,\n",
    ")\n",
    "\n",
    "from config import Config"
   ]
  },
  {
   "cell_type": "code",
   "execution_count": 2,
   "metadata": {},
   "outputs": [],
   "source": [
    "MODEL_PATH = \"/Users/sergey_chuvakin/Desktop/neuro-medvedev/neuro-medved-bot/models/gpt3_medium_medved_9.pt\"\n",
    "# model_hf_name = \"sberbank-ai/rugpt3small_based_on_gpt2\"\n",
    "model_hf_name = \"sberbank-ai/rugpt3large_based_on_gpt2\"\n",
    "device = torch.device(\"cpu\")\n",
    "\n",
    "print(\"Downloading model binaries...\")\n",
    "tokenizer = GPT2Tokenizer.from_pretrained(model_hf_name)\n",
    "model = GPT2LMHeadModel.from_pretrained(model_hf_name)\n",
    "model.load_state_dict(torch.load(MODEL_PATH, map_location=torch.device(\"cpu\")))\n",
    "model.eval()\n",
    "model.to(device)\n",
    "print(\"Done.\")"
   ]
  },
  {
   "cell_type": "code",
   "execution_count": 5,
   "metadata": {},
   "outputs": [],
   "source": [
    "def generate_n_words(\n",
    "    lenght_of_sentence, \n",
    "    start_sentence, \n",
    "    determenistic_n, \n",
    "    context=None, \n",
    "    device=device\n",
    "):\n",
    "\n",
    "    start_ids = torch.tensor(tokenizer.encode(start_sentence)).unsqueeze(0).to(device)\n",
    "\n",
    "    if context:\n",
    "        start_sentence = f\"{context} {start_sentence} {context} {start_sentence}\"\n",
    "\n",
    "    cur_ids = torch.tensor(tokenizer.encode(start_sentence)).unsqueeze(0).to(device)\n",
    "    out_ids = torch.tensor([[]])\n",
    "\n",
    "    print(\"Text generation...\")\n",
    "\n",
    "    for _ in tqdm(range(lenght_of_sentence)):\n",
    "        outputs = model(cur_ids, labels=cur_ids)\n",
    "\n",
    "        _, logits = outputs[:2]\n",
    "\n",
    "        softmax_logits = torch.softmax(logits[0, -1], dim=0)\n",
    "\n",
    "        next_token_id = np.random.choice(\n",
    "            softmax_logits.topk(determenistic_n).indices.numpy(), 1\n",
    "        )[0]\n",
    "        # next_token_id = choose_from_top(softmax_logits.to('cpu').detach().numpy(), n=determenistic_n)\n",
    "        cur_ids = torch.cat([cur_ids, torch.tensor(next_token_id).view(1, 1)], dim=1)\n",
    "        out_ids = torch.cat([out_ids, torch.tensor(next_token_id).view(1, 1)], dim=1)\n",
    "\n",
    "    out_ids = torch.cat([start_ids, out_ids], dim=1)\n",
    "    output_list = list(out_ids.squeeze().numpy())\n",
    "    output_text = tokenizer.decode(output_list)\n",
    "\n",
    "    return output_text"
   ]
  },
  {
   "cell_type": "code",
   "execution_count": null,
   "metadata": {},
   "outputs": [
    {
     "name": "stdout",
     "output_type": "stream",
     "text": [
      "Text generation...\n"
     ]
    },
    {
     "data": {
      "application/vnd.jupyter.widget-view+json": {
       "model_id": "229da39490324dfe9f96f617cff2f6f7",
       "version_major": 2,
       "version_minor": 0
      },
      "text/plain": [
       "  0%|          | 0/30 [00:00<?, ?it/s]"
      ]
     },
     "metadata": {},
     "output_type": "display_data"
    }
   ],
   "source": [
    "start_sentence = \"Хочу поздравить Россиян с\"\n",
    "LENGTH_OF_SENTENCE = 30\n",
    "CONTEXT = \"Иблис и Сатана\"\n",
    "\n",
    "print(generate_n_words(\n",
    "    lenght_of_sentence=LENGTH_OF_SENTENCE,\n",
    "    start_sentence=start_sentence,\n",
    "    determenistic_n=2,\n",
    "    context=CONTEXT,\n",
    "    device=device\n",
    "    )\n",
    ")"
   ]
  },
  {
   "cell_type": "code",
   "execution_count": null,
   "metadata": {},
   "outputs": [],
   "source": []
  }
 ],
 "metadata": {
  "kernelspec": {
   "display_name": "Python 3 (ipykernel)",
   "language": "python",
   "name": "python3"
  },
  "language_info": {
   "codemirror_mode": {
    "name": "ipython",
    "version": 3
   },
   "file_extension": ".py",
   "mimetype": "text/x-python",
   "name": "python",
   "nbconvert_exporter": "python",
   "pygments_lexer": "ipython3",
   "version": "3.8.10"
  },
  "vscode": {
   "interpreter": {
    "hash": "0adcc2737ebf6a4a119f135174df96668767fca1ef1112612db5ecadf2b6d608"
   }
  }
 },
 "nbformat": 4,
 "nbformat_minor": 4
}
